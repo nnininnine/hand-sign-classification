{
 "cells": [
  {
   "cell_type": "code",
   "execution_count": 6,
   "id": "9d75fd6d",
   "metadata": {},
   "outputs": [
    {
     "name": "stderr",
     "output_type": "stream",
     "text": [
      "WARNING:root:scikit-learn version 1.1.1 is not supported. Minimum required version: 0.17. Maximum required version: 0.19.2. Disabling scikit-learn conversion API.\n",
      "WARNING:root:TensorFlow version 2.9.2 has not been tested with coremltools. You may run into unexpected errors. TensorFlow 2.6.2 is the most recent version that has been tested.\n",
      "WARNING:root:Keras version 2.9.0 has not been tested with coremltools. You may run into unexpected errors. Keras 2.6.0 is the most recent version that has been tested.\n"
     ]
    }
   ],
   "source": [
    "from keras.models import load_model\n",
    "from keras.layers import Input, Dense\n",
    "from tensorflow import Tensor\n",
    "from keras import backend as K\n",
    "# from keras.engine import InputLayer\n",
    "import coremltools"
   ]
  },
  {
   "cell_type": "code",
   "execution_count": 4,
   "id": "91f3d37d",
   "metadata": {},
   "outputs": [],
   "source": [
    "model = load_model('./saved-model/hand-sign-mobileNetV2-base.h5')"
   ]
  },
  {
   "cell_type": "code",
   "execution_count": null,
   "id": "8f3c958e",
   "metadata": {},
   "outputs": [],
   "source": [
    "coreml_model = coremlmodel.converters.keras.convert('reshaped-model.h5', is_bgr=True, \n",
    "                                                    input_names=['image1', 'image2'], image_input_names=['image1', 'image2'],\n",
    "                                                    output_names=['output'],\n",
    "                                                    blue_bias=-103.939, green_bias=-116.779, red_bias=-123.68)"
   ]
  }
 ],
 "metadata": {
  "kernelspec": {
   "display_name": "Python 3 (ipykernel)",
   "language": "python",
   "name": "python3"
  },
  "language_info": {
   "codemirror_mode": {
    "name": "ipython",
    "version": 3
   },
   "file_extension": ".py",
   "mimetype": "text/x-python",
   "name": "python",
   "nbconvert_exporter": "python",
   "pygments_lexer": "ipython3",
   "version": "3.9.10"
  }
 },
 "nbformat": 4,
 "nbformat_minor": 5
}
