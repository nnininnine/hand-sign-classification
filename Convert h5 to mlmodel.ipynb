{
 "cells": [
  {
   "cell_type": "code",
   "execution_count": 9,
   "id": "cc7462b5",
   "metadata": {},
   "outputs": [
    {
     "name": "stderr",
     "output_type": "stream",
     "text": [
      "Running TensorFlow Graph Passes: 100%|███████████████████████████████████████████████████████████████████████████████████████████████████████████████████████████████████████████████████████████████████████████████████████████████████████| 6/6 [00:00<00:00,  7.40 passes/s]\n",
      "Converting Frontend ==> MIL Ops: 100%|█████████████████████████████████████████████████████████████████████████████████████████████████████████████████████████████████████████████████████████████████████████████████████████████████████| 441/441 [00:01<00:00, 313.55 ops/s]\n",
      "Running MIL Common passes: 100%|███████████████████████████████████████████████████████████████████████████████████████████████████████████████████████████████████████████████████████████████████████████████████████████████████████████| 34/34 [00:01<00:00, 19.95 passes/s]\n",
      "Running MIL Clean up passes: 100%|███████████████████████████████████████████████████████████████████████████████████████████████████████████████████████████████████████████████████████████████████████████████████████████████████████████| 9/9 [00:00<00:00, 60.51 passes/s]\n",
      "Translating MIL ==> NeuralNetwork Ops: 100%|██████████████████████████████████████████████████████████████████████████████████████████████████████████████████████████████████████████████████████████████████████████████████████████████| 502/502 [00:00<00:00, 1096.70 ops/s]\n"
     ]
    }
   ],
   "source": [
    "import coremltools as ct \n",
    "import tensorflow as tf\n",
    "from tensorflow.keras.models import load_model\n",
    "\n",
    "# Load from .h5 file\n",
    "h5_model = load_model('./saved-model/hand-sign-mobileNetV2-base.h5')\n",
    "\n",
    "# Convert to Core ML\n",
    "model = ct.convert(h5_model)"
   ]
  },
  {
   "cell_type": "code",
   "execution_count": 11,
   "id": "1000fdc2",
   "metadata": {},
   "outputs": [],
   "source": [
    "import os\n",
    "\n",
    "model_path = os.path.join('./', 'saved-model', 'hand-sign-mobileNetV2-base.mlmodel')\n",
    "model.save(model_path)"
   ]
  }
 ],
 "metadata": {
  "kernelspec": {
   "display_name": "Python 3 (ipykernel)",
   "language": "python",
   "name": "python3"
  },
  "language_info": {
   "codemirror_mode": {
    "name": "ipython",
    "version": 3
   },
   "file_extension": ".py",
   "mimetype": "text/x-python",
   "name": "python",
   "nbconvert_exporter": "python",
   "pygments_lexer": "ipython3",
   "version": "3.9.10"
  }
 },
 "nbformat": 4,
 "nbformat_minor": 5
}
